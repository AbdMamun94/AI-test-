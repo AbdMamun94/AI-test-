{
 "cells": [
  {
   "cell_type": "markdown",
   "id": "9a53c781",
   "metadata": {},
   "source": [
    "# Opening a csv file from an URL"
   ]
  },
  {
   "cell_type": "code",
   "execution_count": null,
   "id": "4bb41a82",
   "metadata": {},
   "outputs": [],
   "source": [
    "import requests\n",
    "from io import StringIO\n",
    "\n",
    "url = \"https://raw.githubusercontent.com/cs109/2014_data/master/countries.csv\"\n",
    "headers = {\"User-Agent\": \"Mozilla/5.0 (Macintosh; Intel Mac OS X 10.14; rv:66.0) Gecko/20100101 Firefox/66.0\"}\n",
    "req = requests.get(url, headers=headers)\n",
    "data = StringIO(req.text)\n",
    "\n",
    "pd.read_csv(data)"
   ]
  },
  {
   "cell_type": "markdown",
   "id": "5e7ddd53",
   "metadata": {},
   "source": [
    "# Sep Parameter"
   ]
  },
  {
   "cell_type": "code",
   "execution_count": null,
   "id": "077d5422",
   "metadata": {},
   "outputs": [],
   "source": [
    "# Column er Name jodi amar kache na thake. Ar jodi Row no 1 er line e jodi column hisebe\n",
    "# show korte thake tahole Column er patern Bujhe oi COlumn er name diya dewa jabe er madhome.\n",
    "\n",
    "pd.read_csv('movie_titles_metadata.tsv',sep='\\t',names=['sno','name','release_year','rating','votes','genres'])\n",
    "\n",
    "# Column er name er jaygay ei Name gula hobe - 'sno','name','release_year','rating','votes','genres'"
   ]
  },
  {
   "cell_type": "markdown",
   "id": "1bd0061a",
   "metadata": {},
   "source": [
    "# Index_col parameter"
   ]
  },
  {
   "cell_type": "code",
   "execution_count": null,
   "id": "858a63fb",
   "metadata": {},
   "outputs": [],
   "source": [
    "# Column e jodi by Default 0 1 2 3 thake tar bodole jodi amra kono COlumn ke jodi sekhane replace korte chai tahole evabe korte hobe.\n",
    "\n",
    "pd.read_csv('aug_train.csv',index_col='enrollee_id')\n"
   ]
  },
  {
   "cell_type": "markdown",
   "id": "3ca70d8a",
   "metadata": {},
   "source": [
    "# Header parameter"
   ]
  },
  {
   "cell_type": "code",
   "execution_count": null,
   "id": "6e9504eb",
   "metadata": {},
   "outputs": [],
   "source": [
    "# dataset e jodi Headline 1st Row hisebe show kore ta thik korar jonno... 1st row ke Headline bananor jonno eta use korte hobe.\n",
    "\n",
    "pd.read_csv('test.csv',header=1)"
   ]
  },
  {
   "cell_type": "markdown",
   "id": "d5875696",
   "metadata": {},
   "source": [
    "# use_cols parameter"
   ]
  },
  {
   "cell_type": "code",
   "execution_count": null,
   "id": "ff858ed8",
   "metadata": {},
   "outputs": [],
   "source": [
    "# Jodi amar dataset er kichu fixed Column niye kaj korte hoy tahole.\n",
    "\n",
    "pd.read_csv('aug_train.csv',usecols=['enrollee_id','gender','education_level'])"
   ]
  },
  {
   "cell_type": "markdown",
   "id": "93b8b5e1",
   "metadata": {},
   "source": [
    "# Squeeze parameters"
   ]
  },
  {
   "cell_type": "code",
   "execution_count": null,
   "id": "698e20b5",
   "metadata": {},
   "outputs": [],
   "source": [
    "# jodi 1 tai Column lage dataset er tahole\n",
    "\n",
    "pd.read_csv('aug_train.csv',usecols=['gender'],squeeze=True)"
   ]
  },
  {
   "cell_type": "markdown",
   "id": "4e463410",
   "metadata": {},
   "source": [
    "# Skiprows/nrows Parameter"
   ]
  },
  {
   "cell_type": "code",
   "execution_count": null,
   "id": "a07c99a2",
   "metadata": {},
   "outputs": [],
   "source": [
    "# Jodi Kono row ke Skip korte hoy or dorkar hoy..tahole\n",
    "\n",
    "pd.read_csv('aug_train.csv',skiprows=[0,2])"
   ]
  },
  {
   "cell_type": "code",
   "execution_count": null,
   "id": "c4eb1be7",
   "metadata": {},
   "outputs": [],
   "source": [
    "# jodi 100 ta row e lage sudhu tahole.\n",
    "\n",
    "pd.read_csv('aug_train.csv',nrows=100)"
   ]
  },
  {
   "cell_type": "markdown",
   "id": "1cef3de4",
   "metadata": {},
   "source": [
    "# Encoding parameter"
   ]
  },
  {
   "cell_type": "code",
   "execution_count": null,
   "id": "0d88e2ce",
   "metadata": {},
   "outputs": [],
   "source": [
    "# jodi data frame Onno formet er hoy tahole... e vabe.\n",
    "\n",
    "pd.read_csv('zomato.csv',encoding='latin-1')"
   ]
  },
  {
   "cell_type": "markdown",
   "id": "695deaa3",
   "metadata": {},
   "source": [
    "# Skip bad lines"
   ]
  },
  {
   "cell_type": "code",
   "execution_count": null,
   "id": "6a2b4d08",
   "metadata": {},
   "outputs": [],
   "source": [
    "# dataframe er bad line gulo thik korar jonno. FOr example :- 8 column er jonne 9 values.\n",
    "\n",
    "pd.read_csv('BX-Books.csv', sep=';', encoding=\"latin-1\",error_bad_lines=False)"
   ]
  },
  {
   "cell_type": "markdown",
   "id": "52d6c629",
   "metadata": {},
   "source": [
    "#  dtypes parameter"
   ]
  },
  {
   "cell_type": "code",
   "execution_count": null,
   "id": "24349081",
   "metadata": {},
   "outputs": [],
   "source": [
    "# jodi dataframe e flote ke jodi int e newa r proyojon hoy tahole.\n",
    "\n",
    "pd.read_csv('aug_train.csv',dtype={'target':int}).info()"
   ]
  },
  {
   "cell_type": "markdown",
   "id": "da7fce6f",
   "metadata": {},
   "source": [
    "# Handling Dates"
   ]
  },
  {
   "cell_type": "code",
   "execution_count": null,
   "id": "9fc1ad46",
   "metadata": {},
   "outputs": [],
   "source": [
    "# date typer data type ke jodi date hisebe use korte hoy tahole eta.\n",
    "\n",
    "pd.read_csv('IPL Matches 2008-2020.csv',parse_dates=['date']).info()"
   ]
  },
  {
   "cell_type": "markdown",
   "id": "b6898d6f",
   "metadata": {},
   "source": [
    "# Convertors"
   ]
  },
  {
   "cell_type": "code",
   "execution_count": null,
   "id": "a9dccc2e",
   "metadata": {},
   "outputs": [],
   "source": [
    "# Boro name jodi Short korte chai tahole eta.\n",
    "\n",
    "pd.read_csv('IPL Matches 2008-2020.csv',converters={'team1':rename})"
   ]
  },
  {
   "cell_type": "markdown",
   "id": "25bf4a9b",
   "metadata": {},
   "source": [
    "# na_values parameter"
   ]
  },
  {
   "cell_type": "code",
   "execution_count": null,
   "id": "ac280603",
   "metadata": {},
   "outputs": [],
   "source": [
    "# Dataframe e jodi (-) e type er value thake tahole egulo define kora somvob hoy na so segulo ke NAN korar jonne eta. \n",
    "\n",
    "pd.read_csv('aug_train.csv',na_values=['-',])"
   ]
  },
  {
   "cell_type": "markdown",
   "id": "9fa291dc",
   "metadata": {},
   "source": [
    "# Loading a huge dataset in chunks"
   ]
  },
  {
   "cell_type": "code",
   "execution_count": null,
   "id": "5d7ad93d",
   "metadata": {},
   "outputs": [],
   "source": [
    "# Bisal Boro dataframe ke Part r part e vag kore kaj korar jonno eta \n",
    "# ete kaj kora easy hoy onek ta.\n",
    "\n",
    "dfs = pd.read_csv('aug_train.csv',chunksize=5000)\n",
    "\n",
    "for chunks in dfs:\n",
    "    print(chunk.shape)"
   ]
  }
 ],
 "metadata": {
  "kernelspec": {
   "display_name": "Python 3 (ipykernel)",
   "language": "python",
   "name": "python3"
  },
  "language_info": {
   "codemirror_mode": {
    "name": "ipython",
    "version": 3
   },
   "file_extension": ".py",
   "mimetype": "text/x-python",
   "name": "python",
   "nbconvert_exporter": "python",
   "pygments_lexer": "ipython3",
   "version": "3.8.12"
  }
 },
 "nbformat": 4,
 "nbformat_minor": 5
}
