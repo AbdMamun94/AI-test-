{
 "cells": [
  {
   "cell_type": "code",
   "execution_count": 3,
   "id": "6a33f079",
   "metadata": {},
   "outputs": [],
   "source": [
    "import csv\n",
    "import openpyxl\n",
    "import pandas as pd\n",
    "\n",
    "def csv_to_excel(csv_file, excel_file):\n",
    "    csv_data = []\n",
    "    with open(csv_file) as file_obj:\n",
    "        reader = csv.reader(file_obj)\n",
    "        for row in reader:\n",
    "            csv_data.append(row)\n",
    "    workbook = openpyxl.Workbook()\n",
    "    sheet = workbook.active\n",
    "    for row in csv_data:\n",
    "        sheet.append(row)\n",
    "    workbook.save(excel_file)\n",
    "if __name__ == \"__main__\":\n",
    "    csv_to_excel(\"Jahresbilanzen_Feinstaub_2012.csv\", \"Jahresbilanzen_Feinstaub_2012.xlsx\")"
   ]
  },
  {
   "cell_type": "code",
   "execution_count": null,
   "id": "60bf033a",
   "metadata": {},
   "outputs": [],
   "source": [
    "import pandas as pd\n",
    "\n",
    "# Reading the csv file\n",
    "df_new = pd.read_csv('Jahresbilanzen_Feinstaub_2012.csv')\n",
    " \n",
    "# saving xlsx file\n",
    "GFG = pd.ExcelWriter('Jahresbilanzen_Feinstaub_2012.xlsx')\n",
    "df_new.to_excel(GFG, index=False)\n",
    " "
   ]
  },
  {
   "cell_type": "code",
   "execution_count": null,
   "id": "a1d7b54c",
   "metadata": {},
   "outputs": [],
   "source": [
    "import pandas as pd\n",
    "\n",
    "read_file = pd.read_csv (r'C:\\Users\\shuvomamun\\Documents\\Jahresbilanzen_Feinstaub_2012.csv')\n",
    "read_file.to_excel (r'C:\\Users\\shuvomamun\\Documents\\New_Jahresbilanzen_Feinstaub_2012.xlsx', index = None, header=True)\n"
   ]
  },
  {
   "cell_type": "code",
   "execution_count": 4,
   "id": "5cc24a9c",
   "metadata": {},
   "outputs": [
    {
     "data": {
      "text/html": [
       "<div>\n",
       "<style scoped>\n",
       "    .dataframe tbody tr th:only-of-type {\n",
       "        vertical-align: middle;\n",
       "    }\n",
       "\n",
       "    .dataframe tbody tr th {\n",
       "        vertical-align: top;\n",
       "    }\n",
       "\n",
       "    .dataframe thead th {\n",
       "        text-align: right;\n",
       "    }\n",
       "</style>\n",
       "<table border=\"1\" class=\"dataframe\">\n",
       "  <thead>\n",
       "    <tr style=\"text-align: right;\">\n",
       "      <th></th>\n",
       "      <th>ï»¿\"Bundesland / Messnetz\";Stationscode;Stationsname;Stationsumgebung;\"Art der Station\";\"Jahresmittelwert in Âµg/mÂ³\"</th>\n",
       "      <th>Unnamed: 1</th>\n",
       "    </tr>\n",
       "  </thead>\n",
       "  <tbody>\n",
       "    <tr>\n",
       "      <th>0</th>\n",
       "      <td>Brandenburg;DEBB007;\"Elsterwerda</td>\n",
       "      <td>1992-2020\";\"vorstÃ¤dtisches Gebiet\";Hintergru...</td>\n",
       "    </tr>\n",
       "    <tr>\n",
       "      <th>1</th>\n",
       "      <td>Brandenburg;DEBB021;Potsdam-Zentrum;\"stÃ¤dtisc...</td>\n",
       "      <td>NaN</td>\n",
       "    </tr>\n",
       "    <tr>\n",
       "      <th>2</th>\n",
       "      <td>Brandenburg;DEBB053;\"Hasenholz (Buckow)\";\"lÃ¤n...</td>\n",
       "      <td>NaN</td>\n",
       "    </tr>\n",
       "    <tr>\n",
       "      <th>3</th>\n",
       "      <td>Brandenburg;DEBB055;\"Brandenburg a.d. Havel\";\"...</td>\n",
       "      <td>NaN</td>\n",
       "    </tr>\n",
       "    <tr>\n",
       "      <th>4</th>\n",
       "      <td>Brandenburg;DEBB063;Wittenberge;\"vorstÃ¤dtisch...</td>\n",
       "      <td>NaN</td>\n",
       "    </tr>\n",
       "  </tbody>\n",
       "</table>\n",
       "</div>"
      ],
      "text/plain": [
       "  ï»¿\"Bundesland / Messnetz\";Stationscode;Stationsname;Stationsumgebung;\"Art der Station\";\"Jahresmittelwert in Âµg/mÂ³\"  \\\n",
       "0                   Brandenburg;DEBB007;\"Elsterwerda                                                                      \n",
       "1  Brandenburg;DEBB021;Potsdam-Zentrum;\"stÃ¤dtisc...                                                                      \n",
       "2  Brandenburg;DEBB053;\"Hasenholz (Buckow)\";\"lÃ¤n...                                                                      \n",
       "3  Brandenburg;DEBB055;\"Brandenburg a.d. Havel\";\"...                                                                      \n",
       "4  Brandenburg;DEBB063;Wittenberge;\"vorstÃ¤dtisch...                                                                      \n",
       "\n",
       "                                          Unnamed: 1  \n",
       "0   1992-2020\";\"vorstÃ¤dtisches Gebiet\";Hintergru...  \n",
       "1                                                NaN  \n",
       "2                                                NaN  \n",
       "3                                                NaN  \n",
       "4                                                NaN  "
      ]
     },
     "execution_count": 4,
     "metadata": {},
     "output_type": "execute_result"
    }
   ],
   "source": [
    "# Importing dataset\n",
    "df = pd.read_excel('Jahresbilanzen_Feinstaub_2012.xlsx')\n",
    "\n",
    "# First five rows of the dataset\n",
    "df.head()\n"
   ]
  },
  {
   "cell_type": "code",
   "execution_count": null,
   "id": "ce3d387f",
   "metadata": {},
   "outputs": [],
   "source": []
  }
 ],
 "metadata": {
  "kernelspec": {
   "display_name": "Python 3 (ipykernel)",
   "language": "python",
   "name": "python3"
  },
  "language_info": {
   "codemirror_mode": {
    "name": "ipython",
    "version": 3
   },
   "file_extension": ".py",
   "mimetype": "text/x-python",
   "name": "python",
   "nbconvert_exporter": "python",
   "pygments_lexer": "ipython3",
   "version": "3.8.12"
  }
 },
 "nbformat": 4,
 "nbformat_minor": 5
}
